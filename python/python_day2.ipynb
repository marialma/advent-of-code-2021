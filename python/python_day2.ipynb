{
 "cells": [
  {
   "cell_type": "markdown",
   "metadata": {},
   "source": [
    "# Part 1"
   ]
  },
  {
   "cell_type": "code",
   "execution_count": 1,
   "metadata": {},
   "outputs": [
    {
     "name": "stdout",
     "output_type": "stream",
     "text": [
      "1484118\n"
     ]
    }
   ],
   "source": [
    "hz = 0\n",
    "vt = 0\n",
    "file = open(\"day2_input\")\n",
    "\n",
    "for line in file: \n",
    "    ac = line.split(\" \")\n",
    "    if ac[0] == 'forward':\n",
    "        hz = hz + int(ac[1])\n",
    "    elif ac[0] == 'down':\n",
    "        vt = vt + int(ac[1])\n",
    "    elif ac[0] == 'up':\n",
    "        vt = vt - int(ac[1])\n",
    "\n",
    "print(vt * hz)"
   ]
  },
  {
   "cell_type": "markdown",
   "metadata": {},
   "source": [
    "# Part 2"
   ]
  },
  {
   "cell_type": "code",
   "execution_count": 2,
   "metadata": {},
   "outputs": [],
   "source": [
    "file = open(\"day2_input\")\n",
    "\n",
    "ls = []\n",
    "for line in file: \n",
    "    ac = line.split(\" \")\n",
    "    pair = [ac[0], int(ac[1])]\n",
    "    ls.append(pair)\n"
   ]
  },
  {
   "cell_type": "code",
   "execution_count": 3,
   "metadata": {},
   "outputs": [
    {
     "name": "stdout",
     "output_type": "stream",
     "text": [
      "1463827010\n"
     ]
    }
   ],
   "source": [
    "aim = 0\n",
    "horizontal_pos = 0\n",
    "vertical_pos = 0\n",
    "\n",
    "for item in ls:\n",
    "    if item[0] == 'forward':\n",
    "        horizontal_pos = horizontal_pos + item[1]\n",
    "        vertical_pos = vertical_pos + (aim * item[1])\n",
    "    elif item[0] == 'down':\n",
    "        aim = aim + item[1]\n",
    "    elif item[0] == 'up':\n",
    "        aim = aim - item[1]\n",
    "    else:\n",
    "        next\n",
    "print(horizontal_pos * vertical_pos)"
   ]
  },
  {
   "cell_type": "code",
   "execution_count": null,
   "metadata": {},
   "outputs": [],
   "source": []
  }
 ],
 "metadata": {
  "kernelspec": {
   "display_name": "Python 3",
   "language": "python",
   "name": "python3"
  },
  "language_info": {
   "codemirror_mode": {
    "name": "ipython",
    "version": 3
   },
   "file_extension": ".py",
   "mimetype": "text/x-python",
   "name": "python",
   "nbconvert_exporter": "python",
   "pygments_lexer": "ipython3",
   "version": "3.8.3"
  }
 },
 "nbformat": 4,
 "nbformat_minor": 4
}
