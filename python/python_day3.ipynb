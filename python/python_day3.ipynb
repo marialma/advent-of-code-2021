{
 "cells": [
  {
   "cell_type": "markdown",
   "metadata": {},
   "source": [
    "# part 1"
   ]
  },
  {
   "cell_type": "code",
   "execution_count": 1,
   "metadata": {},
   "outputs": [],
   "source": [
    "import statistics as s"
   ]
  },
  {
   "cell_type": "code",
   "execution_count": 2,
   "metadata": {},
   "outputs": [],
   "source": [
    "file = open(\"day3_input\")\n",
    "\n",
    "advent = []\n",
    "for line in file: \n",
    "    advent.append(line.rstrip())\n",
    "    \n",
    "bit_length = len(advent[1])"
   ]
  },
  {
   "cell_type": "code",
   "execution_count": 3,
   "metadata": {},
   "outputs": [],
   "source": [
    "# counting the number of 1s and 0s in a list\n",
    "def count_chars(temp_bit_list, function_type):\n",
    "    one = 0\n",
    "    zero = 0\n",
    "\n",
    "    for bit in temp_bit_list:\n",
    "        if bit == \"1\": \n",
    "            one = one + 1\n",
    "        elif bit == \"0\": \n",
    "            zero = zero + 1\n",
    "        else: \n",
    "            break\n",
    "\n",
    "    if function_type == \"most\":\n",
    "        more_bit = \"1\"\n",
    "        less_bit = \"0\"\n",
    "    elif function_type == \"least\":\n",
    "        more_bit = \"0\"\n",
    "        less_bit = \"1\"\n",
    "    else: \n",
    "        print(\"'most' or 'least' only\")\n",
    "\n",
    "    if one >= zero: \n",
    "        most_common_bit = more_bit\n",
    "    elif zero > one: \n",
    "        most_common_bit = less_bit\n",
    "    elif one == zero & function_type == \"most\": \n",
    "        most_common_bit = \"1\"\n",
    "    elif one == zero & functoin_type == \"least\":\n",
    "        most_common_bit = \"0\"\n",
    "    else: \n",
    "        print(\"you done fucked up\")\n",
    "\n",
    "    return(most_common_bit)"
   ]
  },
  {
   "cell_type": "code",
   "execution_count": 4,
   "metadata": {},
   "outputs": [],
   "source": [
    "# binary calculation\n",
    "def binary_calc(temp_var):\n",
    "    decimal_value = 0\n",
    "    rev_number_range = [i for i in reversed(range(0,len(temp_var)))]    \n",
    "    number_range = range(0,len(temp_var))\n",
    "    \n",
    "    for number in number_range:\n",
    "        power = 2 ** rev_number_range[number]\n",
    "        dec_var = power * int(temp_var[number])\n",
    "        decimal_value = decimal_value + dec_var\n",
    "    return(decimal_value)"
   ]
  },
  {
   "cell_type": "code",
   "execution_count": 5,
   "metadata": {},
   "outputs": [
    {
     "name": "stdout",
     "output_type": "stream",
     "text": [
      "4001724\n"
     ]
    }
   ],
   "source": [
    "def advent_3(advent, function_type):\n",
    "    temp_var = []\n",
    "    for number in range(0,bit_length):\n",
    "        temp_bit_list = []\n",
    "        \n",
    "    \n",
    "        for bits in advent: \n",
    "            char = bits[number]\n",
    "            temp_bit_list.append(char)\n",
    "            \n",
    "        most_common_bit = count_chars(temp_bit_list, function_type)\n",
    "        temp_var.append(most_common_bit)\n",
    "    decimal_value = binary_calc(temp_var)\n",
    "    return(decimal_value)\n",
    "\n",
    "    \n",
    "gamma = advent_3(advent, \"most\")\n",
    "epsilon = advent_3(advent, \"least\")\n",
    "\n",
    "print(gamma * epsilon)\n"
   ]
  },
  {
   "cell_type": "markdown",
   "metadata": {},
   "source": [
    "# Part 2"
   ]
  },
  {
   "cell_type": "code",
   "execution_count": 6,
   "metadata": {},
   "outputs": [
    {
     "name": "stdout",
     "output_type": "stream",
     "text": [
      "587895\n"
     ]
    }
   ],
   "source": [
    "def advent_3_pt2(advent, function_type):\n",
    "    new_list = advent\n",
    "    temp_var = []\n",
    "    for number in range(0,bit_length):\n",
    "        temp_bit_list = []\n",
    "\n",
    "        new_lists = []\n",
    "\n",
    "        for bits in new_list: \n",
    "            char = bits[number]\n",
    "            temp_bit_list.append(char)\n",
    "        most_common_bit = count_chars(temp_bit_list, function_type)\n",
    "\n",
    "        for bits in new_list: \n",
    "            if bits[number] == most_common_bit:\n",
    "                new_lists.append(bits)\n",
    "\n",
    "            else: \n",
    "                pass\n",
    "        new_list = new_lists\n",
    "        if len(new_lists) == 1:\n",
    "            final_value = new_lists\n",
    "            break\n",
    "\n",
    "\n",
    "    final_value_list = [i for i in final_value[0]]\n",
    "    return(binary_calc(final_value_list))\n",
    "\n",
    "oxy = advent_3_pt2(advent, \"most\")\n",
    "co2 = advent_3_pt2(advent, \"least\")\n",
    "\n",
    "print(oxy * co2)"
   ]
  },
  {
   "cell_type": "code",
   "execution_count": null,
   "metadata": {},
   "outputs": [],
   "source": []
  }
 ],
 "metadata": {
  "kernelspec": {
   "display_name": "Python 3",
   "language": "python",
   "name": "python3"
  },
  "language_info": {
   "codemirror_mode": {
    "name": "ipython",
    "version": 3
   },
   "file_extension": ".py",
   "mimetype": "text/x-python",
   "name": "python",
   "nbconvert_exporter": "python",
   "pygments_lexer": "ipython3",
   "version": "3.8.3"
  }
 },
 "nbformat": 4,
 "nbformat_minor": 4
}
