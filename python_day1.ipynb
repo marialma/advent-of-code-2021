{
 "cells": [
  {
   "cell_type": "markdown",
   "metadata": {},
   "source": [
    "# part 1"
   ]
  },
  {
   "cell_type": "code",
   "execution_count": 75,
   "metadata": {},
   "outputs": [],
   "source": [
    "file = open(\"day1_input\")"
   ]
  },
  {
   "cell_type": "code",
   "execution_count": 76,
   "metadata": {},
   "outputs": [],
   "source": [
    "lines = file.readlines()\n",
    "int_list = [int(i) for i in lines]"
   ]
  },
  {
   "cell_type": "code",
   "execution_count": 81,
   "metadata": {},
   "outputs": [],
   "source": [
    "increases = 0\n",
    "prev_line = 0"
   ]
  },
  {
   "cell_type": "code",
   "execution_count": 82,
   "metadata": {},
   "outputs": [
    {
     "name": "stdout",
     "output_type": "stream",
     "text": [
      "1616\n"
     ]
    }
   ],
   "source": [
    "for line in int_list:\n",
    "    if prev_line == 0:\n",
    "        prev_line = line\n",
    "    else:\n",
    "        if line > prev_line:\n",
    "            increases = increases + 1\n",
    "            prev_line = line\n",
    "        else:\n",
    "            prev_line = line\n",
    "print(increases)"
   ]
  },
  {
   "cell_type": "markdown",
   "metadata": {},
   "source": [
    "# part 2"
   ]
  },
  {
   "cell_type": "code",
   "execution_count": 84,
   "metadata": {},
   "outputs": [],
   "source": [
    "lag1 = 0 \n",
    "lag2 = 0\n",
    "prev_sum = 0\n",
    "increases = 0\n"
   ]
  },
  {
   "cell_type": "code",
   "execution_count": 85,
   "metadata": {},
   "outputs": [
    {
     "name": "stdout",
     "output_type": "stream",
     "text": [
      "1645\n"
     ]
    }
   ],
   "source": [
    "for line in int_list: \n",
    "    if lag1 == 0 and lag2 == 0:\n",
    "        lag1 = line\n",
    "    elif lag1 != 0 and lag2 == 0:\n",
    "        lag2 = lag1\n",
    "        lag1 = line\n",
    "    else: \n",
    "        if prev_sum == 0:\n",
    "            prev_sum = line + lag1 + lag2\n",
    "            lag2 = lag1\n",
    "            lag1 = line\n",
    "        else:\n",
    "            lagged_sum = line + lag1 + lag2\n",
    "            lag2 = lag1\n",
    "            lag1 = line\n",
    "            if lagged_sum > prev_sum: \n",
    "                increases = increases + 1\n",
    "                prev_sum = lagged_sum\n",
    "            else:\n",
    "                prev_sum = lagged_sum\n",
    "print(increases)"
   ]
  }
 ],
 "metadata": {
  "kernelspec": {
   "display_name": "Python 3",
   "language": "python",
   "name": "python3"
  },
  "language_info": {
   "codemirror_mode": {
    "name": "ipython",
    "version": 3
   },
   "file_extension": ".py",
   "mimetype": "text/x-python",
   "name": "python",
   "nbconvert_exporter": "python",
   "pygments_lexer": "ipython3",
   "version": "3.8.3"
  }
 },
 "nbformat": 4,
 "nbformat_minor": 4
}
